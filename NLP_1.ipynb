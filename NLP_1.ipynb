{
 "cells": [
  {
   "cell_type": "markdown",
   "metadata": {},
   "source": [
    "# NLP"
   ]
  },
  {
   "cell_type": "code",
   "execution_count": 1,
   "metadata": {},
   "outputs": [],
   "source": [
    "#Corpora > Corpus > Document > Token\n",
    "# bir dataset gelirse mesela ona corpus deriz, documenta ise 1 line`a diyebiliriz.\n",
    "# daha sonra onlari bir kelimeye indirgeyecegiz, token = kelime\n",
    "\n",
    "# Corpus = Dataframe\n",
    "# Document == 1 line\n",
    "# Token = kelime\n"
   ]
  },
  {
   "cell_type": "code",
   "execution_count": 2,
   "metadata": {},
   "outputs": [],
   "source": [
    "# NLP order of study:\n",
    "# 1 Cleaning\n",
    "#     a.Remove punctuiation(virgul vs kaldir)\n",
    "#     b.Remove stopwords (and the my a should must about [179 words]) # NLTK, gensim, spaCy libraries\n",
    "#     c.Stemming Lemmatization (stemming koke iner, lemmazization ekleri atar)\n",
    "    \n",
    "# 2 Numeric\n",
    "# 3 Model"
   ]
  },
  {
   "cell_type": "code",
   "execution_count": 17,
   "metadata": {},
   "outputs": [],
   "source": [
    "from nltk.corpus import stopwords\n",
    "from nltk.stem import WordNetLemmatizer\n",
    "from nltk.stem import PorterStemmer\n",
    "from nltk.tokenize import sent_tokenize, word_tokenize\n",
    "from collections import Counter"
   ]
  },
  {
   "cell_type": "code",
   "execution_count": 49,
   "metadata": {},
   "outputs": [
    {
     "name": "stdout",
     "output_type": "stream",
     "text": [
      "tokenization: \n",
      " ['oh', 'man', ',', 'this', 'is', 'pretty', 'cool', '.', 'we', 'will', 'do', 'more', 'such', '10', 'things', '.'] \n",
      "\n",
      "removing punctation: \n",
      " ['oh', 'man', 'this', 'is', 'pretty', 'cool', 'we', 'will', 'do', 'more', 'such', 'things'] \n",
      "\n",
      "removing stopwords: \n",
      " ['oh', 'man', 'pretty', 'cool', 'things'] \n",
      "\n",
      "stemming \n",
      " ['oh', 'man', 'pretti', 'cool', 'thing'] \n",
      "\n",
      "lemmatization \n",
      " ['oh', 'man', 'pretty', 'cool', 'thing'] \n",
      "\n"
     ]
    }
   ],
   "source": [
    "stop_words = stopwords.words('english')\n",
    "sample_text=\"Oh man, this is pretty cool. We will do more such 10 things.\"\n",
    "text_tokens = word_tokenize(sample_text.lower())\n",
    "tokens_without_punc = [i for i in text_tokens if i.isalpha()]\n",
    "tokens_without_sw = [i for i in tokens_without_punc if i not in stop_words ]\n",
    "st = PorterStemmer()\n",
    "lem = WordNetLemmatizer()\n",
    "lems = [lem.lemmatize(t) for t in tokens_without_sw]\n",
    "stems = [st.stem(t) for t in tokens_without_sw]\n",
    "\n",
    "\n",
    "print(\"tokenization:\",  \"\\n\", text_tokens,  \"\\n\")\n",
    "print(\"removing punctation:\",  \"\\n\", tokens_without_punc,  \"\\n\")\n",
    "print(\"removing stopwords:\",  \"\\n\", tokens_without_sw, \"\\n\")\n",
    "print(\"stemming\",  \"\\n\", stems, \"\\n\")\n",
    "print(\"lemmatization\",  \"\\n\", lems, \"\\n\")"
   ]
  },
  {
   "cell_type": "code",
   "execution_count": 18,
   "metadata": {},
   "outputs": [
    {
     "name": "stderr",
     "output_type": "stream",
     "text": [
      "[nltk_data] Downloading package stopwords to /Users/me/nltk_data...\n",
      "[nltk_data]   Package stopwords is already up-to-date!\n"
     ]
    },
    {
     "data": {
      "text/plain": [
       "True"
      ]
     },
     "execution_count": 18,
     "metadata": {},
     "output_type": "execute_result"
    }
   ],
   "source": [
    "import nltk\n",
    "nltk.download('stopwords')\n",
    "import nltk\n",
    "nltk.download('punkt')\n",
    "import nltk\n",
    "nltk.download('wordnet')"
   ]
  },
  {
   "cell_type": "code",
   "execution_count": 34,
   "metadata": {},
   "outputs": [
    {
     "name": "stdout",
     "output_type": "stream",
     "text": [
      "['i', 'me', 'my', 'myself', 'we', 'our', 'ours', 'ourselves', 'you', \"you're\", \"you've\", \"you'll\", \"you'd\", 'your', 'yours', 'yourself', 'yourselves', 'he', 'him', 'his', 'himself', 'she', \"she's\", 'her', 'hers', 'herself', 'it', \"it's\", 'its', 'itself', 'they', 'them', 'their', 'theirs', 'themselves', 'what', 'which', 'who', 'whom', 'this', 'that', \"that'll\", 'these', 'those', 'am', 'is', 'are', 'was', 'were', 'be', 'been', 'being', 'have', 'has', 'had', 'having', 'do', 'does', 'did', 'doing', 'a', 'an', 'the', 'and', 'but', 'if', 'or', 'because', 'as', 'until', 'while', 'of', 'at', 'by', 'for', 'with', 'about', 'against', 'between', 'into', 'through', 'during', 'before', 'after', 'above', 'below', 'to', 'from', 'up', 'down', 'in', 'out', 'on', 'off', 'over', 'under', 'again', 'further', 'then', 'once', 'here', 'there', 'when', 'where', 'why', 'how', 'all', 'any', 'both', 'each', 'few', 'more', 'most', 'other', 'some', 'such', 'no', 'nor', 'not', 'only', 'own', 'same', 'so', 'than', 'too', 'very', 's', 't', 'can', 'will', 'just', 'don', \"don't\", 'should', \"should've\", 'now', 'd', 'll', 'm', 'o', 're', 've', 'y', 'ain', 'aren', \"aren't\", 'couldn', \"couldn't\", 'didn', \"didn't\", 'doesn', \"doesn't\", 'hadn', \"hadn't\", 'hasn', \"hasn't\", 'haven', \"haven't\", 'isn', \"isn't\", 'ma', 'mightn', \"mightn't\", 'mustn', \"mustn't\", 'needn', \"needn't\", 'shan', \"shan't\", 'shouldn', \"shouldn't\", 'wasn', \"wasn't\", 'weren', \"weren't\", 'won', \"won't\", 'wouldn', \"wouldn't\"]\n"
     ]
    }
   ],
   "source": [
    "stop_words = stopwords.words('english')\n",
    "print(stop_words)"
   ]
  },
  {
   "cell_type": "code",
   "execution_count": 30,
   "metadata": {},
   "outputs": [
    {
     "data": {
      "text/plain": [
       "'Oh man, this is pretty cool. We will do more such 10 things.'"
      ]
     },
     "execution_count": 30,
     "metadata": {},
     "output_type": "execute_result"
    }
   ],
   "source": [
    "sample_text=\"Oh man, this is pretty cool. We will do more such 10 things.\"\n",
    "sample_text"
   ]
  },
  {
   "cell_type": "markdown",
   "metadata": {},
   "source": [
    "**TOKENIZE**"
   ]
  },
  {
   "cell_type": "code",
   "execution_count": 31,
   "metadata": {},
   "outputs": [
    {
     "name": "stdout",
     "output_type": "stream",
     "text": [
      "['oh', 'man', ',', 'this', 'is', 'pretty', 'cool', '.', 'we', 'will', 'do', 'more', 'such', '10', 'things', '.']\n"
     ]
    }
   ],
   "source": [
    "text_tokens = word_tokenize(sample_text.lower())\n",
    "print(text_tokens)"
   ]
  },
  {
   "cell_type": "markdown",
   "metadata": {},
   "source": [
    "**PUNCTUOATION AND NUMBERS**"
   ]
  },
  {
   "cell_type": "code",
   "execution_count": 32,
   "metadata": {},
   "outputs": [
    {
     "name": "stdout",
     "output_type": "stream",
     "text": [
      "['oh', 'man', 'this', 'is', 'pretty', 'cool', 'we', 'will', 'do', 'more', 'such', 'things']\n"
     ]
    }
   ],
   "source": [
    "tokens_without_punc = [i for i in text_tokens if i.isalpha()]\n",
    "print(tokens_without_punc)"
   ]
  },
  {
   "cell_type": "markdown",
   "metadata": {},
   "source": [
    "**REMOVING STOPWORDS**"
   ]
  },
  {
   "cell_type": "code",
   "execution_count": 37,
   "metadata": {},
   "outputs": [
    {
     "name": "stdout",
     "output_type": "stream",
     "text": [
      "['oh', 'man', 'pretty', 'cool', 'things']\n"
     ]
    }
   ],
   "source": [
    "tokens_without_sw = [i for i in tokens_without_punc if i not in stop_words ]\n",
    "print(tokens_without_sw)"
   ]
  },
  {
   "cell_type": "markdown",
   "metadata": {},
   "source": [
    "**STEMMING OR LEMMA**"
   ]
  },
  {
   "cell_type": "code",
   "execution_count": 38,
   "metadata": {},
   "outputs": [],
   "source": [
    "st = PorterStemmer()\n",
    "lem = WordNetLemmatizer()"
   ]
  },
  {
   "cell_type": "code",
   "execution_count": 41,
   "metadata": {},
   "outputs": [
    {
     "name": "stdout",
     "output_type": "stream",
     "text": [
      "['oh', 'man', 'pretty', 'cool', 'thing']\n"
     ]
    }
   ],
   "source": [
    "lems = [lem.lemmatize(t) for t in tokens_without_sw]\n",
    "print(lems)"
   ]
  },
  {
   "cell_type": "code",
   "execution_count": 45,
   "metadata": {},
   "outputs": [
    {
     "name": "stdout",
     "output_type": "stream",
     "text": [
      "['oh', 'man', 'pretti', 'cool', 'thing']\n"
     ]
    }
   ],
   "source": [
    "stems = [st.stem(t) for t in tokens_without_sw]\n",
    "print(stems)"
   ]
  },
  {
   "cell_type": "code",
   "execution_count": 46,
   "metadata": {},
   "outputs": [
    {
     "name": "stdout",
     "output_type": "stream",
     "text": [
      "tokenization: \n",
      " ['oh', 'man', ',', 'this', 'is', 'pretty', 'cool', '.', 'we', 'will', 'do', 'more', 'such', '10', 'things', '.'] \n",
      "\n",
      "removing punctation: \n",
      " ['oh', 'man', 'this', 'is', 'pretty', 'cool', 'we', 'will', 'do', 'more', 'such', 'things'] \n",
      "\n",
      "removing stopwords: \n",
      " ['oh', 'man', 'pretty', 'cool', 'things'] \n",
      "\n",
      "stemming \n",
      " ['oh', 'man', 'pretti', 'cool', 'thing'] \n",
      "\n",
      "lemmatization instead of stemming \n",
      " ['oh', 'man', 'pretty', 'cool', 'thing'] \n",
      "\n"
     ]
    }
   ],
   "source": [
    "print(\"tokenization:\",  \"\\n\", text_tokens,  \"\\n\")\n",
    "print(\"removing punctation:\",  \"\\n\", tokens_without_punc,  \"\\n\")\n",
    "print(\"removing stopwords:\",  \"\\n\", tokens_without_sw, \"\\n\")\n",
    "print(\"stemming\",  \"\\n\", stems, \"\\n\")\n",
    "print(\"lemmatization instead of stemming\",  \"\\n\", lems, \"\\n\")"
   ]
  },
  {
   "cell_type": "code",
   "execution_count": null,
   "metadata": {},
   "outputs": [],
   "source": [
    "PorterStemmer()"
   ]
  }
 ],
 "metadata": {
  "kernelspec": {
   "display_name": "Python 3",
   "language": "python",
   "name": "python3"
  },
  "language_info": {
   "codemirror_mode": {
    "name": "ipython",
    "version": 3
   },
   "file_extension": ".py",
   "mimetype": "text/x-python",
   "name": "python",
   "nbconvert_exporter": "python",
   "pygments_lexer": "ipython3",
   "version": "3.8.3"
  }
 },
 "nbformat": 4,
 "nbformat_minor": 4
}
